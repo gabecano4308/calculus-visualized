{
 "cells": [
  {
   "cell_type": "markdown",
   "id": "72e28a16-b15f-43df-8afd-56a3f8c71603",
   "metadata": {},
   "source": [
    "## Derivatives"
   ]
  },
  {
   "cell_type": "markdown",
   "id": "7d6c4a54-2335-4aa2-a008-10da88133eac",
   "metadata": {},
   "source": [
    "    - intro\n",
    "    - rules\n",
    "    - trig\n",
    "    - implicit diff\n",
    "    - related rates\n",
    "    - l'hopital\n",
    "    - concavity/inflection"
   ]
  },
  {
   "cell_type": "code",
   "execution_count": null,
   "id": "2182eec4-6e3d-4f23-9510-68b91fff041b",
   "metadata": {},
   "outputs": [],
   "source": []
  }
 ],
 "metadata": {
  "kernelspec": {
   "display_name": "Python 3 (ipykernel)",
   "language": "python",
   "name": "python3"
  },
  "language_info": {
   "codemirror_mode": {
    "name": "ipython",
    "version": 3
   },
   "file_extension": ".py",
   "mimetype": "text/x-python",
   "name": "python",
   "nbconvert_exporter": "python",
   "pygments_lexer": "ipython3",
   "version": "3.11.4"
  }
 },
 "nbformat": 4,
 "nbformat_minor": 5
}
